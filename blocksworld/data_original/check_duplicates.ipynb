{
 "cells": [
  {
   "cell_type": "code",
   "execution_count": 1,
   "metadata": {},
   "outputs": [],
   "source": [
    "import json\n",
    "from typing import List, Dict, Tuple\n",
    "from copy import deepcopy\n",
    "from pprint import pprint"
   ]
  },
  {
   "cell_type": "code",
   "execution_count": 2,
   "metadata": {},
   "outputs": [],
   "source": [
    "def convert_to_hashable(obj):\n",
    "    \"\"\"Convert a dictionary into a hashable tuple representation.\"\"\"\n",
    "    if isinstance(obj, dict):\n",
    "        return tuple(\n",
    "            (k, convert_to_hashable(v)) \n",
    "            for k, v in sorted(obj.items())\n",
    "        )\n",
    "    elif isinstance(obj, list):\n",
    "        return tuple(convert_to_hashable(item) for item in obj)\n",
    "    return obj"
   ]
  },
  {
   "cell_type": "code",
   "execution_count": 3,
   "metadata": {},
   "outputs": [],
   "source": [
    "def remove_duplicates(data: List[Dict]) -> Tuple[List[Dict], List[Dict]]:\n",
    "    \"\"\"Remove duplicate dictionaries from the list while preserving order.\"\"\"\n",
    "    seen = set()\n",
    "    unique_data = []\n",
    "    dups = []\n",
    "    \n",
    "    for i, item in enumerate(data):\n",
    "        # Convert the dictionary to a hashable format\n",
    "        hashable_item = convert_to_hashable(item)\n",
    "        \n",
    "        # If we haven't seen this item before, add it to our results\n",
    "        if hashable_item not in seen:\n",
    "            seen.add(hashable_item)\n",
    "            unique_data.append(deepcopy(item))\n",
    "        else:\n",
    "            dups.append(deepcopy(item))\n",
    "\n",
    "        print(f\"Processed {i+1} items\", end='\\r')\n",
    "    \n",
    "    return unique_data, dups"
   ]
  },
  {
   "cell_type": "code",
   "execution_count": 4,
   "metadata": {},
   "outputs": [
    {
     "name": "stdout",
     "output_type": "stream",
     "text": [
      "outfile: dataset_6.json.json\n"
     ]
    }
   ],
   "source": [
    "infile = 'dataset_6.json'\n",
    "outfile = f\"{'_'.join(infile.split(\"_\")[:2])}.json\"\n",
    "print(f\"outfile: {outfile}\")"
   ]
  },
  {
   "cell_type": "code",
   "execution_count": 5,
   "metadata": {},
   "outputs": [
    {
     "name": "stdout",
     "output_type": "stream",
     "text": [
      "Original number of plans: 44175\n",
      "Number of plans after removing duplicates: 44175\n",
      "Number of duplicates removed: 0\n"
     ]
    }
   ],
   "source": [
    "# Read the JSON file\n",
    "with open(infile, 'r') as f:\n",
    "    data = json.load(f)\n",
    "\n",
    "plans = data['plans']\n",
    "\n",
    "# Remove duplicates\n",
    "unique_data, duplicates = remove_duplicates(plans)\n",
    "\n",
    "# Print statistics\n",
    "print(f\"Original number of plans: {len(plans)}\")\n",
    "print(f\"Number of plans after removing duplicates: {len(unique_data)}\")\n",
    "print(f\"Number of duplicates removed: {len(plans) - len(unique_data)}\")"
   ]
  },
  {
   "cell_type": "code",
   "execution_count": 7,
   "metadata": {},
   "outputs": [],
   "source": [
    "# print(\"Duplicates:\")\n",
    "# for item in duplicates:\n",
    "#     pprint(item)"
   ]
  },
  {
   "cell_type": "code",
   "execution_count": 8,
   "metadata": {},
   "outputs": [],
   "source": [
    "# Write back to file if needed\n",
    "with open(outfile, 'w') as f:\n",
    "    data['plans'] = unique_data\n",
    "    json.dump(data, f, indent=2)"
   ]
  }
 ],
 "metadata": {
  "kernelspec": {
   "display_name": ".venv",
   "language": "python",
   "name": "python3"
  },
  "language_info": {
   "codemirror_mode": {
    "name": "ipython",
    "version": 3
   },
   "file_extension": ".py",
   "mimetype": "text/x-python",
   "name": "python",
   "nbconvert_exporter": "python",
   "pygments_lexer": "ipython3",
   "version": "3.13.2"
  }
 },
 "nbformat": 4,
 "nbformat_minor": 2
}
