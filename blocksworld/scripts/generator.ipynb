{
 "cells": [
  {
   "cell_type": "markdown",
   "metadata": {},
   "source": [
    "# Generate Valid Blocks World Plans\n",
    "An approach to generate valid Blocks World plans for any number of blocks."
   ]
  },
  {
   "cell_type": "code",
   "execution_count": 1,
   "metadata": {},
   "outputs": [],
   "source": [
    "from BlocksWorld import BlocksWorldGenerator\n",
    "from pprint import pprint, pformat"
   ]
  },
  {
   "cell_type": "markdown",
   "metadata": {},
   "source": [
    "## Sample Usage"
   ]
  },
  {
   "cell_type": "code",
   "execution_count": 2,
   "metadata": {},
   "outputs": [],
   "source": [
    "generator = BlocksWorldGenerator(num_blocks=3)"
   ]
  },
  {
   "cell_type": "code",
   "execution_count": 3,
   "metadata": {},
   "outputs": [
    {
     "name": "stdout",
     "output_type": "stream",
     "text": [
      "Feature names (corresponding to each position):\n",
      "0 -> A_on_table\n",
      "1 -> B_on_table\n",
      "2 -> C_on_table\n",
      "3 -> A_on_B\n",
      "4 -> A_on_C\n",
      "5 -> B_on_A\n",
      "6 -> B_on_C\n",
      "7 -> C_on_A\n",
      "8 -> C_on_B\n",
      "9 -> A_clear\n",
      "10 -> B_clear\n",
      "11 -> C_clear\n",
      "12 -> A_held\n",
      "13 -> B_held\n",
      "14 -> C_held\n"
     ]
    }
   ],
   "source": [
    "# Show encoding scheme\n",
    "print(\"Feature names (corresponding to each position):\")\n",
    "for i, feature in enumerate(generator.feature_names):\n",
    "    print(f\"{i} -> {feature}\")"
   ]
  },
  {
   "cell_type": "code",
   "execution_count": 4,
   "metadata": {},
   "outputs": [],
   "source": [
    "# Generate single plan\n",
    "sample_plan = generator.generate_random_plan()"
   ]
  },
  {
   "cell_type": "code",
   "execution_count": 5,
   "metadata": {},
   "outputs": [
    {
     "name": "stdout",
     "output_type": "stream",
     "text": [
      "\n",
      "Sample Plan:\n",
      "Number of states: 5\n",
      "Actions:\n",
      "[('unstack', 'C', 'B'),\n",
      " ('putdown', 'C', None),\n",
      " ('unstack', 'B', 'A'),\n",
      " ('stack', 'B', 'C')]\n"
     ]
    }
   ],
   "source": [
    "print(\"\\nSample Plan:\")\n",
    "print(f\"Number of states: {len(sample_plan['plan'])}\")\n",
    "print(f\"Actions:\\n{pformat(sample_plan['actions'])}\")"
   ]
  },
  {
   "cell_type": "code",
   "execution_count": 6,
   "metadata": {},
   "outputs": [
    {
     "name": "stdout",
     "output_type": "stream",
     "text": [
      "Binary Features: [1, 0, 0, 0, 0, 1, 0, 0, 1, 0, 0, 1, 0, 0, 0]\n",
      "Mapping: {'A_clear': 0,\n",
      " 'A_held': 0,\n",
      " 'A_on_B': 0,\n",
      " 'A_on_C': 0,\n",
      " 'A_on_table': 1,\n",
      " 'B_clear': 0,\n",
      " 'B_held': 0,\n",
      " 'B_on_A': 1,\n",
      " 'B_on_C': 0,\n",
      " 'B_on_table': 0,\n",
      " 'C_clear': 1,\n",
      " 'C_held': 0,\n",
      " 'C_on_A': 0,\n",
      " 'C_on_B': 1,\n",
      " 'C_on_table': 0}\n"
     ]
    }
   ],
   "source": [
    "print(f\"Binary Features: {sample_plan['initial_state']}\")\n",
    "print(f\"Mapping: {pformat(generator.decode_vector(sample_plan['initial_state']))}\")"
   ]
  },
  {
   "cell_type": "code",
   "execution_count": 7,
   "metadata": {},
   "outputs": [
    {
     "name": "stdout",
     "output_type": "stream",
     "text": [
      "Initial State: BlockState(clear={'C'}, on_table={'A'}, on={'B': 'A', 'C': 'B'}, holding=None)\n",
      "Goal State: BlockState(clear={'A', 'B'}, on_table={'A', 'C'}, on={'B': 'C'}, holding=None)\n",
      "Actions: [('unstack', 'C', 'B'),\n",
      " ('putdown', 'C', None),\n",
      " ('unstack', 'B', 'A'),\n",
      " ('stack', 'B', 'C')]\n"
     ]
    }
   ],
   "source": [
    "print(f\"Initial State: {pformat(generator.decode_state(generator.decode_vector(sample_plan['initial_state'])))}\")\n",
    "print(f\"Goal State: {pformat(generator.decode_state(generator.decode_vector(sample_plan['goal_state'])))}\")\n",
    "print(f\"Actions: {pformat(sample_plan['actions'])}\")"
   ]
  },
  {
   "cell_type": "code",
   "execution_count": 8,
   "metadata": {},
   "outputs": [
    {
     "name": "stdout",
     "output_type": "stream",
     "text": [
      "Raw Plan States:\n",
      "[[1, 0, 0, 0, 0, 1, 0, 0, 1, 0, 0, 1, 0, 0, 0],\n",
      " [1, 0, 0, 0, 0, 1, 0, 0, 0, 0, 1, 0, 0, 0, 1],\n",
      " [1, 0, 1, 0, 0, 1, 0, 0, 0, 0, 1, 1, 0, 0, 0],\n",
      " [1, 0, 1, 0, 0, 0, 0, 0, 0, 1, 0, 1, 0, 1, 0],\n",
      " [1, 0, 1, 0, 0, 0, 1, 0, 0, 1, 1, 0, 0, 0, 0]]\n"
     ]
    }
   ],
   "source": [
    "print(\"Raw Plan States:\")\n",
    "pprint(sample_plan['plan'])"
   ]
  },
  {
   "cell_type": "code",
   "execution_count": 9,
   "metadata": {},
   "outputs": [
    {
     "name": "stdout",
     "output_type": "stream",
     "text": [
      "Decoded Plan States:\n",
      "State 0: BlockState(clear={'C'}, on_table={'A'}, on={'B': 'A', 'C': 'B'}, holding=None)\n",
      "State 1: BlockState(clear={'B'}, on_table={'A'}, on={'B': 'A'}, holding='C')\n",
      "State 2: BlockState(clear={'B', 'C'}, on_table={'A', 'C'}, on={'B': 'A'}, holding=None)\n",
      "State 3: BlockState(clear={'A', 'C'}, on_table={'A', 'C'}, on={}, holding='B')\n",
      "State 4: BlockState(clear={'A', 'B'}, on_table={'A', 'C'}, on={'B': 'C'}, holding=None)\n"
     ]
    }
   ],
   "source": [
    "print(\"Decoded Plan States:\")\n",
    "for i, p in enumerate(sample_plan['plan']):\n",
    "    print(f\"State {i}: {pformat(generator.decode_state(generator.decode_vector(p)))}\")"
   ]
  },
  {
   "cell_type": "code",
   "execution_count": 10,
   "metadata": {},
   "outputs": [
    {
     "name": "stdout",
     "output_type": "stream",
     "text": [
      "Plan Actions:\n",
      "[('unstack', 'C', 'B'),\n",
      " ('putdown', 'C', None),\n",
      " ('unstack', 'B', 'A'),\n",
      " ('stack', 'B', 'C')]\n"
     ]
    }
   ],
   "source": [
    "print(\"Plan Actions:\")\n",
    "pprint(sample_plan['actions'])"
   ]
  },
  {
   "cell_type": "markdown",
   "metadata": {},
   "source": [
    "## Dataset"
   ]
  },
  {
   "cell_type": "code",
   "execution_count": 11,
   "metadata": {},
   "outputs": [
    {
     "name": "stdout",
     "output_type": "stream",
     "text": [
      "Each state is encoded with 8 binary features\n"
     ]
    }
   ],
   "source": [
    "# Generate dataset\n",
    "num_blocks = 2\n",
    "num_plans = 50\n",
    "\n",
    "dataset_generator = BlocksWorldGenerator(num_blocks=num_blocks)\n",
    "dataset = dataset_generator.generate_dataset(num_plans=num_plans)\n",
    "\n",
    "print(f\"Each state is encoded with {dataset['num_features']} binary features\")"
   ]
  },
  {
   "cell_type": "code",
   "execution_count": 12,
   "metadata": {},
   "outputs": [],
   "source": [
    "# with open(f'../data/dataset_{num_blocks}_{num_plans}.json', 'w') as f:\n",
    "#     json.dump(dataset, f)"
   ]
  }
 ],
 "metadata": {
  "kernelspec": {
   "display_name": "tsplans",
   "language": "python",
   "name": "python3"
  },
  "language_info": {
   "codemirror_mode": {
    "name": "ipython",
    "version": 3
   },
   "file_extension": ".py",
   "mimetype": "text/x-python",
   "name": "python",
   "nbconvert_exporter": "python",
   "pygments_lexer": "ipython3",
   "version": "3.12.2"
  }
 },
 "nbformat": 4,
 "nbformat_minor": 2
}
